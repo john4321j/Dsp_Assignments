{
 "cells": [
  {
   "cell_type": "code",
   "execution_count": 3,
   "id": "3395693d",
   "metadata": {},
   "outputs": [],
   "source": [
    "import pandas as pd #creation of series scalar values"
   ]
  },
  {
   "cell_type": "code",
   "execution_count": 4,
   "id": "1a8f18d5",
   "metadata": {},
   "outputs": [],
   "source": [
    "s = pd.Series([1,2,3,4])"
   ]
  },
  {
   "cell_type": "code",
   "execution_count": 5,
   "id": "7da035e9",
   "metadata": {},
   "outputs": [
    {
     "data": {
      "text/plain": [
       "0    1\n",
       "1    2\n",
       "2    3\n",
       "3    4\n",
       "dtype: int64"
      ]
     },
     "execution_count": 5,
     "metadata": {},
     "output_type": "execute_result"
    }
   ],
   "source": [
    "s"
   ]
  },
  {
   "cell_type": "code",
   "execution_count": 6,
   "id": "3b2b7a91",
   "metadata": {},
   "outputs": [],
   "source": [
    "s1 = pd.Series([\"john\",\"abhi\",\"anand\",\"bobby\"],index=[3,5,6,8])"
   ]
  },
  {
   "cell_type": "code",
   "execution_count": 7,
   "id": "9ae9a8c7",
   "metadata": {},
   "outputs": [
    {
     "data": {
      "text/plain": [
       "3     john\n",
       "5     abhi\n",
       "6    anand\n",
       "8    bobby\n",
       "dtype: object"
      ]
     },
     "execution_count": 7,
     "metadata": {},
     "output_type": "execute_result"
    }
   ],
   "source": [
    "s1"
   ]
  },
  {
   "cell_type": "code",
   "execution_count": 8,
   "id": "8d3f0c78",
   "metadata": {},
   "outputs": [],
   "source": [
    "s2 = pd.Series([3,4],index=[\"jai\",\"tom\"])"
   ]
  },
  {
   "cell_type": "code",
   "execution_count": 9,
   "id": "521cf339",
   "metadata": {},
   "outputs": [
    {
     "data": {
      "text/plain": [
       "jai    3\n",
       "tom    4\n",
       "dtype: int64"
      ]
     },
     "execution_count": 9,
     "metadata": {},
     "output_type": "execute_result"
    }
   ],
   "source": [
    "s2"
   ]
  },
  {
   "cell_type": "code",
   "execution_count": 10,
   "id": "58df569b",
   "metadata": {},
   "outputs": [],
   "source": [
    "import numpy as np\n",
    "import pandas as pd  #creation of series from numpy arrays"
   ]
  },
  {
   "cell_type": "code",
   "execution_count": 11,
   "id": "6051c93e",
   "metadata": {},
   "outputs": [
    {
     "name": "stdout",
     "output_type": "stream",
     "text": [
      "0    jan\n",
      "1    feb\n",
      "2    mar\n",
      "dtype: object\n"
     ]
    }
   ],
   "source": [
    "arr1 = np.array([\"jan\",\"feb\",\"mar\"])\n",
    "sr = pd.Series(arr1)\n",
    "print(sr)"
   ]
  },
  {
   "cell_type": "code",
   "execution_count": null,
   "id": "dba37f24",
   "metadata": {},
   "outputs": [],
   "source": []
  },
  {
   "cell_type": "code",
   "execution_count": 12,
   "id": "73ca14df",
   "metadata": {},
   "outputs": [
    {
     "name": "stdout",
     "output_type": "stream",
     "text": [
      "jan    1\n",
      "feb    2\n",
      "mar    3\n",
      "dtype: int32\n"
     ]
    }
   ],
   "source": [
    "arr2 = np.array([1,2,3])\n",
    "ser2 = pd.Series(arr2,index=[\"jan\",\"feb\",\"mar\"])\n",
    "print(ser2)"
   ]
  },
  {
   "cell_type": "code",
   "execution_count": 13,
   "id": "6f9f8f79",
   "metadata": {},
   "outputs": [
    {
     "name": "stdout",
     "output_type": "stream",
     "text": [
      "{'john': 2002, 'Abhinav': 2004, 'krish': 2005}\n"
     ]
    }
   ],
   "source": [
    "dic1 = {'john':2002,'Abhinav':2004,'krish':2005}\n",
    "print(dic1)"
   ]
  },
  {
   "cell_type": "code",
   "execution_count": 14,
   "id": "5341a500",
   "metadata": {},
   "outputs": [
    {
     "name": "stdout",
     "output_type": "stream",
     "text": [
      "john       2002\n",
      "Abhinav    2004\n",
      "krish      2005\n",
      "dtype: int64\n"
     ]
    },
    {
     "ename": "KeyError",
     "evalue": "0",
     "output_type": "error",
     "traceback": [
      "\u001b[1;31m---------------------------------------------------------------------------\u001b[0m",
      "\u001b[1;31mKeyError\u001b[0m                                  Traceback (most recent call last)",
      "\u001b[1;32m~\\AppData\\Local\\Temp/ipykernel_5468/2182013874.py\u001b[0m in \u001b[0;36m<module>\u001b[1;34m\u001b[0m\n\u001b[0;32m      1\u001b[0m \u001b[0mseries3\u001b[0m \u001b[1;33m=\u001b[0m \u001b[0mpd\u001b[0m\u001b[1;33m.\u001b[0m\u001b[0mSeries\u001b[0m\u001b[1;33m(\u001b[0m\u001b[0mdic1\u001b[0m\u001b[1;33m)\u001b[0m\u001b[1;33m\u001b[0m\u001b[1;33m\u001b[0m\u001b[0m\n\u001b[0;32m      2\u001b[0m \u001b[0mprint\u001b[0m\u001b[1;33m(\u001b[0m\u001b[0mseries3\u001b[0m\u001b[1;33m)\u001b[0m\u001b[1;33m\u001b[0m\u001b[1;33m\u001b[0m\u001b[0m\n\u001b[1;32m----> 3\u001b[1;33m \u001b[0mdic1\u001b[0m\u001b[1;33m[\u001b[0m\u001b[1;36m0\u001b[0m\u001b[1;33m]\u001b[0m\u001b[1;33m\u001b[0m\u001b[1;33m\u001b[0m\u001b[0m\n\u001b[0m",
      "\u001b[1;31mKeyError\u001b[0m: 0"
     ]
    }
   ],
   "source": [
    "series3 = pd.Series(dic1)\n",
    "print(series3)"
   ]
  },
  {
   "cell_type": "code",
   "execution_count": 111,
   "id": "58ada495",
   "metadata": {},
   "outputs": [
    {
     "data": {
      "text/plain": [
       "4"
      ]
     },
     "execution_count": 111,
     "metadata": {},
     "output_type": "execute_result"
    }
   ],
   "source": [
    "ar1 = np.array([1,3,4,5]) #positional index\n",
    "sr2 = pd.Series(ar1)\n",
    "sr2[2]"
   ]
  },
  {
   "cell_type": "code",
   "execution_count": 112,
   "id": "900bac9f",
   "metadata": {},
   "outputs": [
    {
     "data": {
      "text/plain": [
       "tom     3\n",
       "elon    4\n",
       "dtype: int32"
      ]
     },
     "execution_count": 112,
     "metadata": {},
     "output_type": "execute_result"
    }
   ],
   "source": [
    "ar2 = np.array([1,3,4,5]) #labelled index and multiple access\n",
    "sr4 = pd.Series(ar2,index=['jan','tom','elon','kalam'])\n",
    "sr4[['tom','elon']]"
   ]
  },
  {
   "cell_type": "code",
   "execution_count": 113,
   "id": "b9b21d6f",
   "metadata": {},
   "outputs": [
    {
     "data": {
      "text/plain": [
       "uk     b\n",
       "ind    c\n",
       "dtype: object"
      ]
     },
     "execution_count": 113,
     "metadata": {},
     "output_type": "execute_result"
    }
   ],
   "source": [
    "s1 = np.array(['a','b','c','d']) #slicing\n",
    "slc = pd.Series(s1,index=['us','uk','ind','china'])\n",
    "slc[1:3]"
   ]
  },
  {
   "cell_type": "code",
   "execution_count": 114,
   "id": "86a6c6f9",
   "metadata": {},
   "outputs": [
    {
     "data": {
      "text/plain": [
       "us       a\n",
       "uk       b\n",
       "ind      c\n",
       "china    d\n",
       "dtype: object"
      ]
     },
     "execution_count": 114,
     "metadata": {},
     "output_type": "execute_result"
    }
   ],
   "source": [
    "slc['us':'china'] #slicing for including all data"
   ]
  },
  {
   "cell_type": "code",
   "execution_count": 115,
   "id": "93f94489",
   "metadata": {},
   "outputs": [
    {
     "ename": "SyntaxError",
     "evalue": "cannot mix bytes and nonbytes literals (Temp/ipykernel_648/2339414498.py, line 3)",
     "output_type": "error",
     "traceback": [
      "\u001b[1;36m  File \u001b[1;32m\"C:\\Users\\JOHN\\AppData\\Local\\Temp/ipykernel_648/2339414498.py\"\u001b[1;36m, line \u001b[1;32m3\u001b[0m\n\u001b[1;33m    index=['a,'b','c','d','e','f'])\u001b[0m\n\u001b[1;37m                   ^\u001b[0m\n\u001b[1;31mSyntaxError\u001b[0m\u001b[1;31m:\u001b[0m cannot mix bytes and nonbytes literals\n"
     ]
    }
   ],
   "source": [
    "import numpy as np\n",
    "series1 = pd.Series(np.arange(10,16,1),\n",
    "index=['a,'b','c','d','e','f'])\n",
    "print(series1)"
   ]
  },
  {
   "cell_type": "code",
   "execution_count": 116,
   "id": "ce031f63",
   "metadata": {},
   "outputs": [
    {
     "data": {
      "text/plain": [
       "0     78\n",
       "1    178\n",
       "2     99\n",
       "3     60\n",
       "dtype: int64"
      ]
     },
     "execution_count": 116,
     "metadata": {},
     "output_type": "execute_result"
    }
   ],
   "source": [
    "sp=pd.Series([1,2,3,5]) #methods of series\n",
    "sd=pd.Series([78,89,33,12])\n",
    "sp*sd"
   ]
  },
  {
   "cell_type": "code",
   "execution_count": 117,
   "id": "e05f24d1",
   "metadata": {},
   "outputs": [
    {
     "data": {
      "text/html": [
       "<div>\n",
       "<style scoped>\n",
       "    .dataframe tbody tr th:only-of-type {\n",
       "        vertical-align: middle;\n",
       "    }\n",
       "\n",
       "    .dataframe tbody tr th {\n",
       "        vertical-align: top;\n",
       "    }\n",
       "\n",
       "    .dataframe thead th {\n",
       "        text-align: right;\n",
       "    }\n",
       "</style>\n",
       "<table border=\"1\" class=\"dataframe\">\n",
       "  <thead>\n",
       "    <tr style=\"text-align: right;\">\n",
       "      <th></th>\n",
       "      <th>0</th>\n",
       "    </tr>\n",
       "  </thead>\n",
       "  <tbody>\n",
       "    <tr>\n",
       "      <th>0</th>\n",
       "      <td>1</td>\n",
       "    </tr>\n",
       "    <tr>\n",
       "      <th>1</th>\n",
       "      <td>2</td>\n",
       "    </tr>\n",
       "    <tr>\n",
       "      <th>2</th>\n",
       "      <td>3</td>\n",
       "    </tr>\n",
       "    <tr>\n",
       "      <th>3</th>\n",
       "      <td>5</td>\n",
       "    </tr>\n",
       "  </tbody>\n",
       "</table>\n",
       "</div>"
      ],
      "text/plain": [
       "   0\n",
       "0  1\n",
       "1  2\n",
       "2  3\n",
       "3  5"
      ]
     },
     "execution_count": 117,
     "metadata": {},
     "output_type": "execute_result"
    }
   ],
   "source": [
    "import numpy as np  #dataframe using numpy\n",
    "a1=np.array([1,2,3,5])\n",
    "a2=np.array([33,44,56,77])\n",
    "a3=np.array([36,77])\n",
    "d=pd.DataFrame(a1)\n",
    "d"
   ]
  },
  {
   "cell_type": "code",
   "execution_count": 118,
   "id": "1863b0b9",
   "metadata": {},
   "outputs": [
    {
     "data": {
      "text/html": [
       "<div>\n",
       "<style scoped>\n",
       "    .dataframe tbody tr th:only-of-type {\n",
       "        vertical-align: middle;\n",
       "    }\n",
       "\n",
       "    .dataframe tbody tr th {\n",
       "        vertical-align: top;\n",
       "    }\n",
       "\n",
       "    .dataframe thead th {\n",
       "        text-align: right;\n",
       "    }\n",
       "</style>\n",
       "<table border=\"1\" class=\"dataframe\">\n",
       "  <thead>\n",
       "    <tr style=\"text-align: right;\">\n",
       "      <th></th>\n",
       "      <th>0</th>\n",
       "      <th>1</th>\n",
       "      <th>2</th>\n",
       "      <th>3</th>\n",
       "    </tr>\n",
       "  </thead>\n",
       "  <tbody>\n",
       "    <tr>\n",
       "      <th>0</th>\n",
       "      <td>1</td>\n",
       "      <td>2</td>\n",
       "      <td>3.0</td>\n",
       "      <td>5.0</td>\n",
       "    </tr>\n",
       "    <tr>\n",
       "      <th>1</th>\n",
       "      <td>33</td>\n",
       "      <td>44</td>\n",
       "      <td>56.0</td>\n",
       "      <td>77.0</td>\n",
       "    </tr>\n",
       "    <tr>\n",
       "      <th>2</th>\n",
       "      <td>36</td>\n",
       "      <td>77</td>\n",
       "      <td>NaN</td>\n",
       "      <td>NaN</td>\n",
       "    </tr>\n",
       "  </tbody>\n",
       "</table>\n",
       "</div>"
      ],
      "text/plain": [
       "    0   1     2     3\n",
       "0   1   2   3.0   5.0\n",
       "1  33  44  56.0  77.0\n",
       "2  36  77   NaN   NaN"
      ]
     },
     "execution_count": 118,
     "metadata": {},
     "output_type": "execute_result"
    }
   ],
   "source": [
    "d3=pd.DataFrame([a1,a2,a3])\n",
    "d3"
   ]
  },
  {
   "cell_type": "code",
   "execution_count": 119,
   "id": "95dca8bc",
   "metadata": {},
   "outputs": [
    {
     "data": {
      "text/html": [
       "<div>\n",
       "<style scoped>\n",
       "    .dataframe tbody tr th:only-of-type {\n",
       "        vertical-align: middle;\n",
       "    }\n",
       "\n",
       "    .dataframe tbody tr th {\n",
       "        vertical-align: top;\n",
       "    }\n",
       "\n",
       "    .dataframe thead th {\n",
       "        text-align: right;\n",
       "    }\n",
       "</style>\n",
       "<table border=\"1\" class=\"dataframe\">\n",
       "  <thead>\n",
       "    <tr style=\"text-align: right;\">\n",
       "      <th></th>\n",
       "    </tr>\n",
       "  </thead>\n",
       "  <tbody>\n",
       "  </tbody>\n",
       "</table>\n",
       "</div>"
      ],
      "text/plain": [
       "Empty DataFrame\n",
       "Columns: []\n",
       "Index: []"
      ]
     },
     "execution_count": 119,
     "metadata": {},
     "output_type": "execute_result"
    }
   ],
   "source": [
    "import pandas as pd\n",
    "df=pd.DataFrame() #empty dataframe\n",
    "df"
   ]
  },
  {
   "cell_type": "code",
   "execution_count": 120,
   "id": "9f9bcc79",
   "metadata": {},
   "outputs": [
    {
     "data": {
      "text/html": [
       "<div>\n",
       "<style scoped>\n",
       "    .dataframe tbody tr th:only-of-type {\n",
       "        vertical-align: middle;\n",
       "    }\n",
       "\n",
       "    .dataframe tbody tr th {\n",
       "        vertical-align: top;\n",
       "    }\n",
       "\n",
       "    .dataframe thead th {\n",
       "        text-align: right;\n",
       "    }\n",
       "</style>\n",
       "<table border=\"1\" class=\"dataframe\">\n",
       "  <thead>\n",
       "    <tr style=\"text-align: right;\">\n",
       "      <th></th>\n",
       "      <th>state</th>\n",
       "      <th>capitals</th>\n",
       "      <th>chiefministers</th>\n",
       "    </tr>\n",
       "  </thead>\n",
       "  <tbody>\n",
       "    <tr>\n",
       "      <th>0</th>\n",
       "      <td>AndhraPradesh</td>\n",
       "      <td>amaravathi</td>\n",
       "      <td>jagan</td>\n",
       "    </tr>\n",
       "    <tr>\n",
       "      <th>1</th>\n",
       "      <td>UttarPradesh</td>\n",
       "      <td>lucknow</td>\n",
       "      <td>yogi</td>\n",
       "    </tr>\n",
       "    <tr>\n",
       "      <th>2</th>\n",
       "      <td>Tamilnadu</td>\n",
       "      <td>chennai</td>\n",
       "      <td>stalin</td>\n",
       "    </tr>\n",
       "    <tr>\n",
       "      <th>3</th>\n",
       "      <td>Telangana</td>\n",
       "      <td>hyd</td>\n",
       "      <td>kcr</td>\n",
       "    </tr>\n",
       "  </tbody>\n",
       "</table>\n",
       "</div>"
      ],
      "text/plain": [
       "           state    capitals chiefministers\n",
       "0  AndhraPradesh  amaravathi          jagan\n",
       "1   UttarPradesh     lucknow           yogi\n",
       "2      Tamilnadu     chennai         stalin\n",
       "3      Telangana         hyd            kcr"
      ]
     },
     "execution_count": 120,
     "metadata": {},
     "output_type": "execute_result"
    }
   ],
   "source": [
    "dics={'state':['AndhraPradesh','UttarPradesh','Tamilnadu','Telangana'],  #creating dataframe using dictionary \n",
    "      'capitals':['amaravathi','lucknow','chennai','hyd'],\n",
    "      'chiefministers':['jagan','yogi','stalin','kcr']}\n",
    "dfd=pd.DataFrame(dics)\n",
    "dfd"
   ]
  },
  {
   "cell_type": "code",
   "execution_count": 121,
   "id": "88f17d55",
   "metadata": {},
   "outputs": [
    {
     "data": {
      "text/html": [
       "<div>\n",
       "<style scoped>\n",
       "    .dataframe tbody tr th:only-of-type {\n",
       "        vertical-align: middle;\n",
       "    }\n",
       "\n",
       "    .dataframe tbody tr th {\n",
       "        vertical-align: top;\n",
       "    }\n",
       "\n",
       "    .dataframe thead th {\n",
       "        text-align: right;\n",
       "    }\n",
       "</style>\n",
       "<table border=\"1\" class=\"dataframe\">\n",
       "  <thead>\n",
       "    <tr style=\"text-align: right;\">\n",
       "      <th></th>\n",
       "      <th>0</th>\n",
       "      <th>1</th>\n",
       "      <th>2</th>\n",
       "      <th>3</th>\n",
       "    </tr>\n",
       "  </thead>\n",
       "  <tbody>\n",
       "    <tr>\n",
       "      <th>0</th>\n",
       "      <td>1</td>\n",
       "      <td>2</td>\n",
       "      <td>3</td>\n",
       "      <td>4</td>\n",
       "    </tr>\n",
       "    <tr>\n",
       "      <th>1</th>\n",
       "      <td>72</td>\n",
       "      <td>23</td>\n",
       "      <td>43</td>\n",
       "      <td>64</td>\n",
       "    </tr>\n",
       "  </tbody>\n",
       "</table>\n",
       "</div>"
      ],
      "text/plain": [
       "    0   1   2   3\n",
       "0   1   2   3   4\n",
       "1  72  23  43  64"
      ]
     },
     "execution_count": 121,
     "metadata": {},
     "output_type": "execute_result"
    }
   ],
   "source": [
    "seriesA=pd.Series([1,2,3,4]) #using series\n",
    "seriesB=pd.Series([72,23,43,64])\n",
    "hg=pd.DataFrame([seriesA,seriesB])\n",
    "hg   "
   ]
  },
  {
   "cell_type": "code",
   "execution_count": 122,
   "id": "5b3d7c51",
   "metadata": {},
   "outputs": [
    {
     "data": {
      "text/html": [
       "<div>\n",
       "<style scoped>\n",
       "    .dataframe tbody tr th:only-of-type {\n",
       "        vertical-align: middle;\n",
       "    }\n",
       "\n",
       "    .dataframe tbody tr th {\n",
       "        vertical-align: top;\n",
       "    }\n",
       "\n",
       "    .dataframe thead th {\n",
       "        text-align: right;\n",
       "    }\n",
       "</style>\n",
       "<table border=\"1\" class=\"dataframe\">\n",
       "  <thead>\n",
       "    <tr style=\"text-align: right;\">\n",
       "      <th></th>\n",
       "      <th>state</th>\n",
       "      <th>capitals</th>\n",
       "      <th>chiefministers</th>\n",
       "      <th>party</th>\n",
       "    </tr>\n",
       "  </thead>\n",
       "  <tbody>\n",
       "    <tr>\n",
       "      <th>0</th>\n",
       "      <td>AndhraPradesh</td>\n",
       "      <td>amaravathi</td>\n",
       "      <td>jagan</td>\n",
       "      <td>YCP</td>\n",
       "    </tr>\n",
       "    <tr>\n",
       "      <th>1</th>\n",
       "      <td>UttarPradesh</td>\n",
       "      <td>lucknow</td>\n",
       "      <td>yogi</td>\n",
       "      <td>BJP</td>\n",
       "    </tr>\n",
       "    <tr>\n",
       "      <th>2</th>\n",
       "      <td>Tamilnadu</td>\n",
       "      <td>chennai</td>\n",
       "      <td>stalin</td>\n",
       "      <td>Dmk</td>\n",
       "    </tr>\n",
       "    <tr>\n",
       "      <th>3</th>\n",
       "      <td>Telangana</td>\n",
       "      <td>hyd</td>\n",
       "      <td>kcr</td>\n",
       "      <td>Trs</td>\n",
       "    </tr>\n",
       "  </tbody>\n",
       "</table>\n",
       "</div>"
      ],
      "text/plain": [
       "           state    capitals chiefministers party\n",
       "0  AndhraPradesh  amaravathi          jagan   YCP\n",
       "1   UttarPradesh     lucknow           yogi   BJP\n",
       "2      Tamilnadu     chennai         stalin   Dmk\n",
       "3      Telangana         hyd            kcr   Trs"
      ]
     },
     "execution_count": 122,
     "metadata": {},
     "output_type": "execute_result"
    }
   ],
   "source": [
    "dfd['party']=['YCP','BJP','Dmk','Trs'] #operations [adding new column] if the col already exists then it'll update\n",
    "dfd"
   ]
  },
  {
   "cell_type": "code",
   "execution_count": 123,
   "id": "f8c62ba7",
   "metadata": {},
   "outputs": [
    {
     "data": {
      "text/html": [
       "<div>\n",
       "<style scoped>\n",
       "    .dataframe tbody tr th:only-of-type {\n",
       "        vertical-align: middle;\n",
       "    }\n",
       "\n",
       "    .dataframe tbody tr th {\n",
       "        vertical-align: top;\n",
       "    }\n",
       "\n",
       "    .dataframe thead th {\n",
       "        text-align: right;\n",
       "    }\n",
       "</style>\n",
       "<table border=\"1\" class=\"dataframe\">\n",
       "  <thead>\n",
       "    <tr style=\"text-align: right;\">\n",
       "      <th></th>\n",
       "      <th>state</th>\n",
       "      <th>capitals</th>\n",
       "      <th>chiefministers</th>\n",
       "      <th>party</th>\n",
       "    </tr>\n",
       "  </thead>\n",
       "  <tbody>\n",
       "    <tr>\n",
       "      <th>0</th>\n",
       "      <td>AndhraPradesh</td>\n",
       "      <td>amaravathi</td>\n",
       "      <td>jagan</td>\n",
       "      <td>YCP</td>\n",
       "    </tr>\n",
       "    <tr>\n",
       "      <th>1</th>\n",
       "      <td>UttarPradesh</td>\n",
       "      <td>lucknow</td>\n",
       "      <td>yogi</td>\n",
       "      <td>BJP</td>\n",
       "    </tr>\n",
       "    <tr>\n",
       "      <th>2</th>\n",
       "      <td>Tamilnadu</td>\n",
       "      <td>chennai</td>\n",
       "      <td>stalin</td>\n",
       "      <td>Dmk</td>\n",
       "    </tr>\n",
       "    <tr>\n",
       "      <th>3</th>\n",
       "      <td>Telangana</td>\n",
       "      <td>hyd</td>\n",
       "      <td>kcr</td>\n",
       "      <td>Trs</td>\n",
       "    </tr>\n",
       "    <tr>\n",
       "      <th>4</th>\n",
       "      <td>West Bengal</td>\n",
       "      <td>Kolkata</td>\n",
       "      <td>Mamatha</td>\n",
       "      <td>TMC</td>\n",
       "    </tr>\n",
       "  </tbody>\n",
       "</table>\n",
       "</div>"
      ],
      "text/plain": [
       "           state    capitals chiefministers party\n",
       "0  AndhraPradesh  amaravathi          jagan   YCP\n",
       "1   UttarPradesh     lucknow           yogi   BJP\n",
       "2      Tamilnadu     chennai         stalin   Dmk\n",
       "3      Telangana         hyd            kcr   Trs\n",
       "4    West Bengal     Kolkata        Mamatha   TMC"
      ]
     },
     "execution_count": 123,
     "metadata": {},
     "output_type": "execute_result"
    }
   ],
   "source": [
    "dfd.loc[4]=['West Bengal','Kolkata','Mamatha','TMC'] #adding new row\n",
    "dfd"
   ]
  },
  {
   "cell_type": "code",
   "execution_count": 124,
   "id": "565d28f0",
   "metadata": {},
   "outputs": [
    {
     "data": {
      "text/html": [
       "<div>\n",
       "<style scoped>\n",
       "    .dataframe tbody tr th:only-of-type {\n",
       "        vertical-align: middle;\n",
       "    }\n",
       "\n",
       "    .dataframe tbody tr th {\n",
       "        vertical-align: top;\n",
       "    }\n",
       "\n",
       "    .dataframe thead th {\n",
       "        text-align: right;\n",
       "    }\n",
       "</style>\n",
       "<table border=\"1\" class=\"dataframe\">\n",
       "  <thead>\n",
       "    <tr style=\"text-align: right;\">\n",
       "      <th></th>\n",
       "      <th>state</th>\n",
       "      <th>capitals</th>\n",
       "      <th>chiefministers</th>\n",
       "    </tr>\n",
       "  </thead>\n",
       "  <tbody>\n",
       "    <tr>\n",
       "      <th>0</th>\n",
       "      <td>AndhraPradesh</td>\n",
       "      <td>amaravathi</td>\n",
       "      <td>jagan</td>\n",
       "    </tr>\n",
       "    <tr>\n",
       "      <th>1</th>\n",
       "      <td>UttarPradesh</td>\n",
       "      <td>lucknow</td>\n",
       "      <td>yogi</td>\n",
       "    </tr>\n",
       "    <tr>\n",
       "      <th>2</th>\n",
       "      <td>Tamilnadu</td>\n",
       "      <td>chennai</td>\n",
       "      <td>stalin</td>\n",
       "    </tr>\n",
       "    <tr>\n",
       "      <th>3</th>\n",
       "      <td>Telangana</td>\n",
       "      <td>hyd</td>\n",
       "      <td>kcr</td>\n",
       "    </tr>\n",
       "    <tr>\n",
       "      <th>4</th>\n",
       "      <td>West Bengal</td>\n",
       "      <td>Kolkata</td>\n",
       "      <td>Mamatha</td>\n",
       "    </tr>\n",
       "  </tbody>\n",
       "</table>\n",
       "</div>"
      ],
      "text/plain": [
       "           state    capitals chiefministers\n",
       "0  AndhraPradesh  amaravathi          jagan\n",
       "1   UttarPradesh     lucknow           yogi\n",
       "2      Tamilnadu     chennai         stalin\n",
       "3      Telangana         hyd            kcr\n",
       "4    West Bengal     Kolkata        Mamatha"
      ]
     },
     "execution_count": 124,
     "metadata": {},
     "output_type": "execute_result"
    }
   ],
   "source": [
    "dfd=dfd.drop('party',axis=1) # to remove column,the parameter of axis is assigned the valued 1\n",
    "dfd"
   ]
  },
  {
   "cell_type": "code",
   "execution_count": 125,
   "id": "2edafa36",
   "metadata": {},
   "outputs": [
    {
     "data": {
      "text/html": [
       "<div>\n",
       "<style scoped>\n",
       "    .dataframe tbody tr th:only-of-type {\n",
       "        vertical-align: middle;\n",
       "    }\n",
       "\n",
       "    .dataframe tbody tr th {\n",
       "        vertical-align: top;\n",
       "    }\n",
       "\n",
       "    .dataframe thead th {\n",
       "        text-align: right;\n",
       "    }\n",
       "</style>\n",
       "<table border=\"1\" class=\"dataframe\">\n",
       "  <thead>\n",
       "    <tr style=\"text-align: right;\">\n",
       "      <th></th>\n",
       "      <th>state</th>\n",
       "      <th>capitals</th>\n",
       "      <th>chiefministers</th>\n",
       "    </tr>\n",
       "  </thead>\n",
       "  <tbody>\n",
       "    <tr>\n",
       "      <th>0</th>\n",
       "      <td>AndhraPradesh</td>\n",
       "      <td>amaravathi</td>\n",
       "      <td>jagan</td>\n",
       "    </tr>\n",
       "    <tr>\n",
       "      <th>1</th>\n",
       "      <td>UttarPradesh</td>\n",
       "      <td>lucknow</td>\n",
       "      <td>yogi</td>\n",
       "    </tr>\n",
       "    <tr>\n",
       "      <th>2</th>\n",
       "      <td>Tamilnadu</td>\n",
       "      <td>chennai</td>\n",
       "      <td>stalin</td>\n",
       "    </tr>\n",
       "    <tr>\n",
       "      <th>4</th>\n",
       "      <td>West Bengal</td>\n",
       "      <td>Kolkata</td>\n",
       "      <td>Mamatha</td>\n",
       "    </tr>\n",
       "  </tbody>\n",
       "</table>\n",
       "</div>"
      ],
      "text/plain": [
       "           state    capitals chiefministers\n",
       "0  AndhraPradesh  amaravathi          jagan\n",
       "1   UttarPradesh     lucknow           yogi\n",
       "2      Tamilnadu     chennai         stalin\n",
       "4    West Bengal     Kolkata        Mamatha"
      ]
     },
     "execution_count": 125,
     "metadata": {},
     "output_type": "execute_result"
    }
   ],
   "source": [
    "dfd=dfd.drop(3,axis=0) # to remove row,the parameter of axis is assigned the valued 0\n",
    "dfd"
   ]
  },
  {
   "cell_type": "code",
   "execution_count": 126,
   "id": "0b4a47c8",
   "metadata": {},
   "outputs": [
    {
     "data": {
      "text/html": [
       "<div>\n",
       "<style scoped>\n",
       "    .dataframe tbody tr th:only-of-type {\n",
       "        vertical-align: middle;\n",
       "    }\n",
       "\n",
       "    .dataframe tbody tr th {\n",
       "        vertical-align: top;\n",
       "    }\n",
       "\n",
       "    .dataframe thead th {\n",
       "        text-align: right;\n",
       "    }\n",
       "</style>\n",
       "<table border=\"1\" class=\"dataframe\">\n",
       "  <thead>\n",
       "    <tr style=\"text-align: right;\">\n",
       "      <th></th>\n",
       "      <th>state</th>\n",
       "      <th>HQ</th>\n",
       "      <th>cm</th>\n",
       "    </tr>\n",
       "  </thead>\n",
       "  <tbody>\n",
       "    <tr>\n",
       "      <th>0</th>\n",
       "      <td>AndhraPradesh</td>\n",
       "      <td>amaravathi</td>\n",
       "      <td>jagan</td>\n",
       "    </tr>\n",
       "    <tr>\n",
       "      <th>1</th>\n",
       "      <td>UttarPradesh</td>\n",
       "      <td>lucknow</td>\n",
       "      <td>yogi</td>\n",
       "    </tr>\n",
       "    <tr>\n",
       "      <th>2</th>\n",
       "      <td>Tamilnadu</td>\n",
       "      <td>chennai</td>\n",
       "      <td>stalin</td>\n",
       "    </tr>\n",
       "    <tr>\n",
       "      <th>4</th>\n",
       "      <td>West Bengal</td>\n",
       "      <td>Kolkata</td>\n",
       "      <td>Mamatha</td>\n",
       "    </tr>\n",
       "  </tbody>\n",
       "</table>\n",
       "</div>"
      ],
      "text/plain": [
       "           state          HQ       cm\n",
       "0  AndhraPradesh  amaravathi    jagan\n",
       "1   UttarPradesh     lucknow     yogi\n",
       "2      Tamilnadu     chennai   stalin\n",
       "4    West Bengal     Kolkata  Mamatha"
      ]
     },
     "execution_count": 126,
     "metadata": {},
     "output_type": "execute_result"
    }
   ],
   "source": [
    "dfd=dfd.rename({'capitals':'HQ','chiefministers':'cm'},axis='columns') #to change the columns names\n",
    "dfd"
   ]
  },
  {
   "cell_type": "code",
   "execution_count": 127,
   "id": "3de82896",
   "metadata": {},
   "outputs": [
    {
     "data": {
      "text/html": [
       "<div>\n",
       "<style scoped>\n",
       "    .dataframe tbody tr th:only-of-type {\n",
       "        vertical-align: middle;\n",
       "    }\n",
       "\n",
       "    .dataframe tbody tr th {\n",
       "        vertical-align: top;\n",
       "    }\n",
       "\n",
       "    .dataframe thead th {\n",
       "        text-align: right;\n",
       "    }\n",
       "</style>\n",
       "<table border=\"1\" class=\"dataframe\">\n",
       "  <thead>\n",
       "    <tr style=\"text-align: right;\">\n",
       "      <th></th>\n",
       "      <th>state</th>\n",
       "      <th>HQ</th>\n",
       "      <th>cm</th>\n",
       "    </tr>\n",
       "  </thead>\n",
       "  <tbody>\n",
       "    <tr>\n",
       "      <th>category1</th>\n",
       "      <td>AndhraPradesh</td>\n",
       "      <td>amaravathi</td>\n",
       "      <td>jagan</td>\n",
       "    </tr>\n",
       "    <tr>\n",
       "      <th>category2</th>\n",
       "      <td>UttarPradesh</td>\n",
       "      <td>lucknow</td>\n",
       "      <td>yogi</td>\n",
       "    </tr>\n",
       "    <tr>\n",
       "      <th>category3</th>\n",
       "      <td>Tamilnadu</td>\n",
       "      <td>chennai</td>\n",
       "      <td>stalin</td>\n",
       "    </tr>\n",
       "    <tr>\n",
       "      <th>4</th>\n",
       "      <td>West Bengal</td>\n",
       "      <td>Kolkata</td>\n",
       "      <td>Mamatha</td>\n",
       "    </tr>\n",
       "  </tbody>\n",
       "</table>\n",
       "</div>"
      ],
      "text/plain": [
       "                   state          HQ       cm\n",
       "category1  AndhraPradesh  amaravathi    jagan\n",
       "category2   UttarPradesh     lucknow     yogi\n",
       "category3      Tamilnadu     chennai   stalin\n",
       "4            West Bengal     Kolkata  Mamatha"
      ]
     },
     "execution_count": 127,
     "metadata": {},
     "output_type": "execute_result"
    }
   ],
   "source": [
    "dfd=dfd.rename({0:'category1',1:'category2',2:'category3'},axis='index') #to change the rows[index] names\n",
    "dfd"
   ]
  },
  {
   "cell_type": "code",
   "execution_count": 128,
   "id": "e2ac5f2a",
   "metadata": {},
   "outputs": [
    {
     "data": {
      "text/html": [
       "<div>\n",
       "<style scoped>\n",
       "    .dataframe tbody tr th:only-of-type {\n",
       "        vertical-align: middle;\n",
       "    }\n",
       "\n",
       "    .dataframe tbody tr th {\n",
       "        vertical-align: top;\n",
       "    }\n",
       "\n",
       "    .dataframe thead th {\n",
       "        text-align: right;\n",
       "    }\n",
       "</style>\n",
       "<table border=\"1\" class=\"dataframe\">\n",
       "  <thead>\n",
       "    <tr style=\"text-align: right;\">\n",
       "      <th></th>\n",
       "      <th>0</th>\n",
       "    </tr>\n",
       "  </thead>\n",
       "  <tbody>\n",
       "    <tr>\n",
       "      <th>0</th>\n",
       "      <td>1</td>\n",
       "    </tr>\n",
       "    <tr>\n",
       "      <th>1</th>\n",
       "      <td>2</td>\n",
       "    </tr>\n",
       "    <tr>\n",
       "      <th>2</th>\n",
       "      <td>3</td>\n",
       "    </tr>\n",
       "    <tr>\n",
       "      <th>3</th>\n",
       "      <td>4</td>\n",
       "    </tr>\n",
       "  </tbody>\n",
       "</table>\n",
       "</div>"
      ],
      "text/plain": [
       "   0\n",
       "0  1\n",
       "1  2\n",
       "2  3\n",
       "3  4"
      ]
     },
     "execution_count": 128,
     "metadata": {},
     "output_type": "execute_result"
    }
   ],
   "source": [
    "j=np.array([1,2,3,4])\n",
    "df=pd.DataFrame(j)   #label based index\n",
    "df"
   ]
  },
  {
   "cell_type": "code",
   "execution_count": 129,
   "id": "325b45a9",
   "metadata": {},
   "outputs": [
    {
     "data": {
      "text/plain": [
       "0    2\n",
       "Name: 1, dtype: int32"
      ]
     },
     "execution_count": 129,
     "metadata": {},
     "output_type": "execute_result"
    }
   ],
   "source": [
    "df.loc[1]"
   ]
  },
  {
   "cell_type": "code",
   "execution_count": 130,
   "id": "cb5393a6",
   "metadata": {},
   "outputs": [
    {
     "data": {
      "text/html": [
       "<div>\n",
       "<style scoped>\n",
       "    .dataframe tbody tr th:only-of-type {\n",
       "        vertical-align: middle;\n",
       "    }\n",
       "\n",
       "    .dataframe tbody tr th {\n",
       "        vertical-align: top;\n",
       "    }\n",
       "\n",
       "    .dataframe thead th {\n",
       "        text-align: right;\n",
       "    }\n",
       "</style>\n",
       "<table border=\"1\" class=\"dataframe\">\n",
       "  <thead>\n",
       "    <tr style=\"text-align: right;\">\n",
       "      <th></th>\n",
       "      <th>state</th>\n",
       "      <th>HQ</th>\n",
       "      <th>cm</th>\n",
       "    </tr>\n",
       "  </thead>\n",
       "  <tbody>\n",
       "    <tr>\n",
       "      <th>category1</th>\n",
       "      <td>AndhraPradesh</td>\n",
       "      <td>amaravathi</td>\n",
       "      <td>jagan</td>\n",
       "    </tr>\n",
       "    <tr>\n",
       "      <th>category2</th>\n",
       "      <td>UttarPradesh</td>\n",
       "      <td>lucknow</td>\n",
       "      <td>yogi</td>\n",
       "    </tr>\n",
       "    <tr>\n",
       "      <th>category3</th>\n",
       "      <td>Tamilnadu</td>\n",
       "      <td>chennai</td>\n",
       "      <td>stalin</td>\n",
       "    </tr>\n",
       "  </tbody>\n",
       "</table>\n",
       "</div>"
      ],
      "text/plain": [
       "                   state          HQ      cm\n",
       "category1  AndhraPradesh  amaravathi   jagan\n",
       "category2   UttarPradesh     lucknow    yogi\n",
       "category3      Tamilnadu     chennai  stalin"
      ]
     },
     "execution_count": 130,
     "metadata": {},
     "output_type": "execute_result"
    }
   ],
   "source": [
    "dfd.loc['category1':'category3'] #slicing"
   ]
  },
  {
   "cell_type": "code",
   "execution_count": 131,
   "id": "03985268",
   "metadata": {},
   "outputs": [
    {
     "data": {
      "text/html": [
       "<div>\n",
       "<style scoped>\n",
       "    .dataframe tbody tr th:only-of-type {\n",
       "        vertical-align: middle;\n",
       "    }\n",
       "\n",
       "    .dataframe tbody tr th {\n",
       "        vertical-align: top;\n",
       "    }\n",
       "\n",
       "    .dataframe thead th {\n",
       "        text-align: right;\n",
       "    }\n",
       "</style>\n",
       "<table border=\"1\" class=\"dataframe\">\n",
       "  <thead>\n",
       "    <tr style=\"text-align: right;\">\n",
       "      <th></th>\n",
       "      <th>c1</th>\n",
       "      <th>c2</th>\n",
       "      <th>c3</th>\n",
       "      <th>c4</th>\n",
       "    </tr>\n",
       "  </thead>\n",
       "  <tbody>\n",
       "    <tr>\n",
       "      <th>r1</th>\n",
       "      <td>1</td>\n",
       "      <td>2</td>\n",
       "      <td>3</td>\n",
       "      <td>4.0</td>\n",
       "    </tr>\n",
       "    <tr>\n",
       "      <th>r2</th>\n",
       "      <td>4</td>\n",
       "      <td>5</td>\n",
       "      <td>6</td>\n",
       "      <td>NaN</td>\n",
       "    </tr>\n",
       "  </tbody>\n",
       "</table>\n",
       "</div>"
      ],
      "text/plain": [
       "    c1  c2  c3   c4\n",
       "r1   1   2   3  4.0\n",
       "r2   4   5   6  NaN"
      ]
     },
     "execution_count": 131,
     "metadata": {},
     "output_type": "execute_result"
    }
   ],
   "source": [
    "df=pd.DataFrame([[1,2,3,4],[4,5,6]],columns=['c1','c2','c3','c4'],index=['r1','r2'])  #joining\n",
    "df"
   ]
  },
  {
   "cell_type": "code",
   "execution_count": 132,
   "id": "40a1169f",
   "metadata": {},
   "outputs": [
    {
     "data": {
      "text/html": [
       "<div>\n",
       "<style scoped>\n",
       "    .dataframe tbody tr th:only-of-type {\n",
       "        vertical-align: middle;\n",
       "    }\n",
       "\n",
       "    .dataframe tbody tr th {\n",
       "        vertical-align: top;\n",
       "    }\n",
       "\n",
       "    .dataframe thead th {\n",
       "        text-align: right;\n",
       "    }\n",
       "</style>\n",
       "<table border=\"1\" class=\"dataframe\">\n",
       "  <thead>\n",
       "    <tr style=\"text-align: right;\">\n",
       "      <th></th>\n",
       "      <th>c4</th>\n",
       "      <th>c6</th>\n",
       "    </tr>\n",
       "  </thead>\n",
       "  <tbody>\n",
       "    <tr>\n",
       "      <th>r3</th>\n",
       "      <td>5</td>\n",
       "      <td>7</td>\n",
       "    </tr>\n",
       "    <tr>\n",
       "      <th>r4</th>\n",
       "      <td>3</td>\n",
       "      <td>2</td>\n",
       "    </tr>\n",
       "  </tbody>\n",
       "</table>\n",
       "</div>"
      ],
      "text/plain": [
       "    c4  c6\n",
       "r3   5   7\n",
       "r4   3   2"
      ]
     },
     "execution_count": 132,
     "metadata": {},
     "output_type": "execute_result"
    }
   ],
   "source": [
    "df2=pd.DataFrame([[5,7],[3,2]],columns=['c4','c6'],index=['r3','r4'])\n",
    "df2"
   ]
  },
  {
   "cell_type": "code",
   "execution_count": 133,
   "id": "b8d69d8f",
   "metadata": {},
   "outputs": [
    {
     "data": {
      "text/html": [
       "<div>\n",
       "<style scoped>\n",
       "    .dataframe tbody tr th:only-of-type {\n",
       "        vertical-align: middle;\n",
       "    }\n",
       "\n",
       "    .dataframe tbody tr th {\n",
       "        vertical-align: top;\n",
       "    }\n",
       "\n",
       "    .dataframe thead th {\n",
       "        text-align: right;\n",
       "    }\n",
       "</style>\n",
       "<table border=\"1\" class=\"dataframe\">\n",
       "  <thead>\n",
       "    <tr style=\"text-align: right;\">\n",
       "      <th></th>\n",
       "      <th>c1</th>\n",
       "      <th>c2</th>\n",
       "      <th>c3</th>\n",
       "      <th>c4</th>\n",
       "      <th>c6</th>\n",
       "    </tr>\n",
       "  </thead>\n",
       "  <tbody>\n",
       "    <tr>\n",
       "      <th>r1</th>\n",
       "      <td>1.0</td>\n",
       "      <td>2.0</td>\n",
       "      <td>3.0</td>\n",
       "      <td>4.0</td>\n",
       "      <td>NaN</td>\n",
       "    </tr>\n",
       "    <tr>\n",
       "      <th>r2</th>\n",
       "      <td>4.0</td>\n",
       "      <td>5.0</td>\n",
       "      <td>6.0</td>\n",
       "      <td>NaN</td>\n",
       "      <td>NaN</td>\n",
       "    </tr>\n",
       "    <tr>\n",
       "      <th>r3</th>\n",
       "      <td>NaN</td>\n",
       "      <td>NaN</td>\n",
       "      <td>NaN</td>\n",
       "      <td>5.0</td>\n",
       "      <td>7.0</td>\n",
       "    </tr>\n",
       "    <tr>\n",
       "      <th>r4</th>\n",
       "      <td>NaN</td>\n",
       "      <td>NaN</td>\n",
       "      <td>NaN</td>\n",
       "      <td>3.0</td>\n",
       "      <td>2.0</td>\n",
       "    </tr>\n",
       "  </tbody>\n",
       "</table>\n",
       "</div>"
      ],
      "text/plain": [
       "     c1   c2   c3   c4   c6\n",
       "r1  1.0  2.0  3.0  4.0  NaN\n",
       "r2  4.0  5.0  6.0  NaN  NaN\n",
       "r3  NaN  NaN  NaN  5.0  7.0\n",
       "r4  NaN  NaN  NaN  3.0  2.0"
      ]
     },
     "execution_count": 133,
     "metadata": {},
     "output_type": "execute_result"
    }
   ],
   "source": [
    "df=df.append(df2)\n",
    "df"
   ]
  },
  {
   "cell_type": "code",
   "execution_count": null,
   "id": "76bf658a",
   "metadata": {},
   "outputs": [],
   "source": []
  }
 ],
 "metadata": {
  "kernelspec": {
   "display_name": "Python 3 (ipykernel)",
   "language": "python",
   "name": "python3"
  },
  "language_info": {
   "codemirror_mode": {
    "name": "ipython",
    "version": 3
   },
   "file_extension": ".py",
   "mimetype": "text/x-python",
   "name": "python",
   "nbconvert_exporter": "python",
   "pygments_lexer": "ipython3",
   "version": "3.9.7"
  }
 },
 "nbformat": 4,
 "nbformat_minor": 5
}
